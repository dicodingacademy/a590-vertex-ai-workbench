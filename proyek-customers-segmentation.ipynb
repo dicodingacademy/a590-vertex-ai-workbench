{
 "cells": [
  {
   "cell_type": "markdown",
   "id": "ee0cbef9-715f-4d56-9565-daa3a0543594",
   "metadata": {},
   "source": [
    "# Customer Segmentation"
   ]
  },
  {
   "cell_type": "markdown",
   "id": "38c4eb62-856d-4046-9133-a34abf869e53",
   "metadata": {},
   "source": [
    "## Installation"
   ]
  },
  {
   "cell_type": "code",
   "execution_count": 1,
   "id": "8ece2db2-d74e-4c3d-ba74-08b08788ac29",
   "metadata": {},
   "outputs": [],
   "source": [
    "!pip3 install --user --upgrade google-cloud-aiplatform \\\n",
    "                                google-cloud-storage \\\n",
    "                                'google-cloud-bigquery[pandas]' \\\n",
    "                                category_encoders \\\n",
    "                                seaborn \\\n",
    "                                scikit-learn \\\n",
    "                                pandas \\\n",
    "                                fsspec \\\n",
    "                                gcsfs -q \n"
   ]
  },
  {
   "cell_type": "markdown",
   "id": "f188ad3b-7f77-42d4-9e07-0f0ed9d43a63",
   "metadata": {
    "tags": []
   },
   "source": [
    "## Set up \n",
    "### Set up your Google Cloud project"
   ]
  },
  {
   "cell_type": "code",
   "execution_count": 2,
   "id": "6c5f982f-abd0-4b30-b0dd-2d5623c3fc6e",
   "metadata": {},
   "outputs": [],
   "source": [
    "PROJECT_ID = \"my-ds-playground\"\n",
    "\n",
    "# !gcloud config set project {PROJECT_ID}"
   ]
  },
  {
   "cell_type": "markdown",
   "id": "c77dfcf4-615f-42b5-810c-9cddf2652f2f",
   "metadata": {},
   "source": [
    "### Set up your Cloud Storage Bucket"
   ]
  },
  {
   "cell_type": "code",
   "execution_count": 3,
   "id": "d8ec63b1-fcde-48e5-8a24-40df469b7ffd",
   "metadata": {},
   "outputs": [
    {
     "name": "stdout",
     "output_type": "stream",
     "text": [
      "Creating gs://my-ds-playground-customers-segmentation/...\n"
     ]
    }
   ],
   "source": [
    "REGION = \"us-central1\"\n",
    "BUCKET_URI = \"gs://my-ds-playground-customers-segmentation\"\n",
    "\n",
    "! gsutil mb -l $REGION -p $PROJECT_ID $BUCKET_URI"
   ]
  },
  {
   "cell_type": "markdown",
   "id": "a462d045-d753-4ec3-aa4f-13136ded137c",
   "metadata": {},
   "source": [
    "### Initialize Vertex AI SDK for Python"
   ]
  },
  {
   "cell_type": "code",
   "execution_count": 4,
   "id": "13eb8954-6680-47aa-95dd-4b1402534258",
   "metadata": {},
   "outputs": [],
   "source": [
    "from google.cloud import aiplatform\n",
    "\n",
    "# Initialize the Vertex AI SDK\n",
    "aiplatform.init(project=PROJECT_ID, location=REGION, staging_bucket=BUCKET_URI)"
   ]
  },
  {
   "cell_type": "markdown",
   "id": "9c349a62-18f3-4d35-b4f6-2580e926431a",
   "metadata": {},
   "source": [
    "### Initialize BigQuery Client"
   ]
  },
  {
   "cell_type": "code",
   "execution_count": 5,
   "id": "e7fb59f8-8add-4051-93e9-c4249ef5ecca",
   "metadata": {},
   "outputs": [],
   "source": [
    "from google.cloud import bigquery\n",
    "\n",
    "bq_client = bigquery.Client(project=PROJECT_ID)"
   ]
  },
  {
   "cell_type": "markdown",
   "id": "ab07b795-6650-4b31-bebe-7bba482836d9",
   "metadata": {},
   "source": [
    "## Data Preparation"
   ]
  },
  {
   "cell_type": "code",
   "execution_count": 6,
   "id": "f8735978-9e1e-4644-8160-9a43a4b26d65",
   "metadata": {},
   "outputs": [
    {
     "data": {
      "text/html": [
       "<div>\n",
       "<style scoped>\n",
       "    .dataframe tbody tr th:only-of-type {\n",
       "        vertical-align: middle;\n",
       "    }\n",
       "\n",
       "    .dataframe tbody tr th {\n",
       "        vertical-align: top;\n",
       "    }\n",
       "\n",
       "    .dataframe thead th {\n",
       "        text-align: right;\n",
       "    }\n",
       "</style>\n",
       "<table border=\"1\" class=\"dataframe\">\n",
       "  <thead>\n",
       "    <tr style=\"text-align: right;\">\n",
       "      <th></th>\n",
       "      <th>Row_ID</th>\n",
       "      <th>Order_ID</th>\n",
       "      <th>Order_Date</th>\n",
       "      <th>Ship_Date</th>\n",
       "      <th>Ship_Mode</th>\n",
       "      <th>Customer_ID</th>\n",
       "      <th>Customer_Name</th>\n",
       "      <th>Segment</th>\n",
       "      <th>Country</th>\n",
       "      <th>City</th>\n",
       "      <th>...</th>\n",
       "      <th>Region</th>\n",
       "      <th>Product_ID</th>\n",
       "      <th>Category</th>\n",
       "      <th>Sub_Category</th>\n",
       "      <th>Product_Name</th>\n",
       "      <th>Sales</th>\n",
       "      <th>Quantity</th>\n",
       "      <th>Discount</th>\n",
       "      <th>Profit</th>\n",
       "      <th>datastream_metadata</th>\n",
       "    </tr>\n",
       "  </thead>\n",
       "  <tbody>\n",
       "    <tr>\n",
       "      <th>0</th>\n",
       "      <td>1</td>\n",
       "      <td>CA-2016-152156</td>\n",
       "      <td>11/8/2016</td>\n",
       "      <td>11/11/2016</td>\n",
       "      <td>Second Class</td>\n",
       "      <td>CG-12520</td>\n",
       "      <td>Claire Gute</td>\n",
       "      <td>Consumer</td>\n",
       "      <td>United States</td>\n",
       "      <td>Henderson</td>\n",
       "      <td>...</td>\n",
       "      <td>South</td>\n",
       "      <td>FUR-BO-10001798</td>\n",
       "      <td>Furniture</td>\n",
       "      <td>Bookcases</td>\n",
       "      <td>Bush Somerset Collection Bookcase</td>\n",
       "      <td>261.9600</td>\n",
       "      <td>2</td>\n",
       "      <td>0.00</td>\n",
       "      <td>41.9136</td>\n",
       "      <td>{'uuid': 'ea88a438-2c1d-4cbf-b29c-fccc00000000...</td>\n",
       "    </tr>\n",
       "    <tr>\n",
       "      <th>1</th>\n",
       "      <td>2</td>\n",
       "      <td>CA-2016-152156</td>\n",
       "      <td>11/8/2016</td>\n",
       "      <td>11/11/2016</td>\n",
       "      <td>Second Class</td>\n",
       "      <td>CG-12520</td>\n",
       "      <td>Claire Gute</td>\n",
       "      <td>Consumer</td>\n",
       "      <td>United States</td>\n",
       "      <td>Henderson</td>\n",
       "      <td>...</td>\n",
       "      <td>South</td>\n",
       "      <td>FUR-CH-10000454</td>\n",
       "      <td>Furniture</td>\n",
       "      <td>Chairs</td>\n",
       "      <td>Hon Deluxe Fabric Upholstered Stacking Chairs,...</td>\n",
       "      <td>731.9400</td>\n",
       "      <td>3</td>\n",
       "      <td>0.00</td>\n",
       "      <td>219.5820</td>\n",
       "      <td>{'uuid': 'ea88a438-2c1d-4cbf-b29c-fccc00000000...</td>\n",
       "    </tr>\n",
       "    <tr>\n",
       "      <th>2</th>\n",
       "      <td>3</td>\n",
       "      <td>CA-2016-138688</td>\n",
       "      <td>6/12/2016</td>\n",
       "      <td>6/16/2016</td>\n",
       "      <td>Second Class</td>\n",
       "      <td>DV-13045</td>\n",
       "      <td>Darrin Van Huff</td>\n",
       "      <td>Corporate</td>\n",
       "      <td>United States</td>\n",
       "      <td>Los Angeles</td>\n",
       "      <td>...</td>\n",
       "      <td>West</td>\n",
       "      <td>OFF-LA-10000240</td>\n",
       "      <td>Office Supplies</td>\n",
       "      <td>Labels</td>\n",
       "      <td>Self-Adhesive Address Labels for Typewriters b...</td>\n",
       "      <td>14.6200</td>\n",
       "      <td>2</td>\n",
       "      <td>0.00</td>\n",
       "      <td>6.8714</td>\n",
       "      <td>{'uuid': 'ea88a438-2c1d-4cbf-b29c-fccc00000000...</td>\n",
       "    </tr>\n",
       "    <tr>\n",
       "      <th>3</th>\n",
       "      <td>4</td>\n",
       "      <td>US-2015-108966</td>\n",
       "      <td>10/11/2015</td>\n",
       "      <td>10/18/2015</td>\n",
       "      <td>Standard Class</td>\n",
       "      <td>SO-20335</td>\n",
       "      <td>Sean O'Donnell</td>\n",
       "      <td>Consumer</td>\n",
       "      <td>United States</td>\n",
       "      <td>Fort Lauderdale</td>\n",
       "      <td>...</td>\n",
       "      <td>South</td>\n",
       "      <td>FUR-TA-10000577</td>\n",
       "      <td>Furniture</td>\n",
       "      <td>Tables</td>\n",
       "      <td>Bretford CR4500 Series Slim Rectangular Table</td>\n",
       "      <td>957.5775</td>\n",
       "      <td>5</td>\n",
       "      <td>0.45</td>\n",
       "      <td>-383.0310</td>\n",
       "      <td>{'uuid': 'ea88a438-2c1d-4cbf-b29c-fccc00000000...</td>\n",
       "    </tr>\n",
       "    <tr>\n",
       "      <th>4</th>\n",
       "      <td>5</td>\n",
       "      <td>US-2015-108966</td>\n",
       "      <td>10/11/2015</td>\n",
       "      <td>10/18/2015</td>\n",
       "      <td>Standard Class</td>\n",
       "      <td>SO-20335</td>\n",
       "      <td>Sean O'Donnell</td>\n",
       "      <td>Consumer</td>\n",
       "      <td>United States</td>\n",
       "      <td>Fort Lauderdale</td>\n",
       "      <td>...</td>\n",
       "      <td>South</td>\n",
       "      <td>OFF-ST-10000760</td>\n",
       "      <td>Office Supplies</td>\n",
       "      <td>Storage</td>\n",
       "      <td>Eldon Fold 'N Roll Cart System</td>\n",
       "      <td>22.3680</td>\n",
       "      <td>2</td>\n",
       "      <td>0.20</td>\n",
       "      <td>2.5164</td>\n",
       "      <td>{'uuid': 'ea88a438-2c1d-4cbf-b29c-fccc00000000...</td>\n",
       "    </tr>\n",
       "  </tbody>\n",
       "</table>\n",
       "<p>5 rows × 22 columns</p>\n",
       "</div>"
      ],
      "text/plain": [
       "   Row_ID        Order_ID  Order_Date   Ship_Date       Ship_Mode Customer_ID  \\\n",
       "0       1  CA-2016-152156   11/8/2016  11/11/2016    Second Class    CG-12520   \n",
       "1       2  CA-2016-152156   11/8/2016  11/11/2016    Second Class    CG-12520   \n",
       "2       3  CA-2016-138688   6/12/2016   6/16/2016    Second Class    DV-13045   \n",
       "3       4  US-2015-108966  10/11/2015  10/18/2015  Standard Class    SO-20335   \n",
       "4       5  US-2015-108966  10/11/2015  10/18/2015  Standard Class    SO-20335   \n",
       "\n",
       "     Customer_Name    Segment        Country             City  ... Region  \\\n",
       "0      Claire Gute   Consumer  United States        Henderson  ...  South   \n",
       "1      Claire Gute   Consumer  United States        Henderson  ...  South   \n",
       "2  Darrin Van Huff  Corporate  United States      Los Angeles  ...   West   \n",
       "3   Sean O'Donnell   Consumer  United States  Fort Lauderdale  ...  South   \n",
       "4   Sean O'Donnell   Consumer  United States  Fort Lauderdale  ...  South   \n",
       "\n",
       "        Product_ID         Category Sub_Category  \\\n",
       "0  FUR-BO-10001798        Furniture    Bookcases   \n",
       "1  FUR-CH-10000454        Furniture       Chairs   \n",
       "2  OFF-LA-10000240  Office Supplies       Labels   \n",
       "3  FUR-TA-10000577        Furniture       Tables   \n",
       "4  OFF-ST-10000760  Office Supplies      Storage   \n",
       "\n",
       "                                        Product_Name     Sales Quantity  \\\n",
       "0                  Bush Somerset Collection Bookcase  261.9600        2   \n",
       "1  Hon Deluxe Fabric Upholstered Stacking Chairs,...  731.9400        3   \n",
       "2  Self-Adhesive Address Labels for Typewriters b...   14.6200        2   \n",
       "3      Bretford CR4500 Series Slim Rectangular Table  957.5775        5   \n",
       "4                     Eldon Fold 'N Roll Cart System   22.3680        2   \n",
       "\n",
       "   Discount    Profit                                datastream_metadata  \n",
       "0      0.00   41.9136  {'uuid': 'ea88a438-2c1d-4cbf-b29c-fccc00000000...  \n",
       "1      0.00  219.5820  {'uuid': 'ea88a438-2c1d-4cbf-b29c-fccc00000000...  \n",
       "2      0.00    6.8714  {'uuid': 'ea88a438-2c1d-4cbf-b29c-fccc00000000...  \n",
       "3      0.45 -383.0310  {'uuid': 'ea88a438-2c1d-4cbf-b29c-fccc00000000...  \n",
       "4      0.20    2.5164  {'uuid': 'ea88a438-2c1d-4cbf-b29c-fccc00000000...  \n",
       "\n",
       "[5 rows x 22 columns]"
      ]
     },
     "execution_count": 6,
     "metadata": {},
     "output_type": "execute_result"
    }
   ],
   "source": [
    "import numpy as np\n",
    "import pandas as pd\n",
    "\n",
    "BQ_SOURCE = \"my-ds-playground.superstore.public_orders\"\n",
    "# NA_VALUES = [\"NA\", \".\"]\n",
    "\n",
    "table = bq_client.get_table(BQ_SOURCE)\n",
    "df = bq_client.list_rows(table).to_dataframe()\n",
    "df.head(5)"
   ]
  },
  {
   "cell_type": "markdown",
   "id": "fa79aa1a-698c-482d-bcce-af27fc638124",
   "metadata": {},
   "source": [
    "### Data Cleansing"
   ]
  },
  {
   "cell_type": "code",
   "execution_count": 7,
   "id": "c82b7c42-31f9-42f7-aa35-64fd96ff7259",
   "metadata": {},
   "outputs": [
    {
     "data": {
      "text/plain": [
       "Row_ID                 0\n",
       "Order_ID               0\n",
       "Order_Date             0\n",
       "Ship_Date              0\n",
       "Ship_Mode              0\n",
       "Customer_ID            0\n",
       "Customer_Name          0\n",
       "Segment                0\n",
       "Country                0\n",
       "City                   0\n",
       "State                  0\n",
       "Postal_Code            0\n",
       "Region                 0\n",
       "Product_ID             0\n",
       "Category               0\n",
       "Sub_Category           0\n",
       "Product_Name           0\n",
       "Sales                  0\n",
       "Quantity               0\n",
       "Discount               0\n",
       "Profit                 0\n",
       "datastream_metadata    0\n",
       "dtype: int64"
      ]
     },
     "execution_count": 7,
     "metadata": {},
     "output_type": "execute_result"
    }
   ],
   "source": [
    "df.isna().sum()"
   ]
  },
  {
   "cell_type": "code",
   "execution_count": 8,
   "id": "36aa66ad-0068-405e-9fd3-d8665b4f5110",
   "metadata": {},
   "outputs": [
    {
     "name": "stdout",
     "output_type": "stream",
     "text": [
      "<class 'pandas.core.frame.DataFrame'>\n",
      "RangeIndex: 9994 entries, 0 to 9993\n",
      "Data columns (total 22 columns):\n",
      " #   Column               Non-Null Count  Dtype  \n",
      "---  ------               --------------  -----  \n",
      " 0   Row_ID               9994 non-null   Int64  \n",
      " 1   Order_ID             9994 non-null   object \n",
      " 2   Order_Date           9994 non-null   object \n",
      " 3   Ship_Date            9994 non-null   object \n",
      " 4   Ship_Mode            9994 non-null   object \n",
      " 5   Customer_ID          9994 non-null   object \n",
      " 6   Customer_Name        9994 non-null   object \n",
      " 7   Segment              9994 non-null   object \n",
      " 8   Country              9994 non-null   object \n",
      " 9   City                 9994 non-null   object \n",
      " 10  State                9994 non-null   object \n",
      " 11  Postal_Code          9994 non-null   Int64  \n",
      " 12  Region               9994 non-null   object \n",
      " 13  Product_ID           9994 non-null   object \n",
      " 14  Category             9994 non-null   object \n",
      " 15  Sub_Category         9994 non-null   object \n",
      " 16  Product_Name         9994 non-null   object \n",
      " 17  Sales                9994 non-null   float64\n",
      " 18  Quantity             9994 non-null   Int64  \n",
      " 19  Discount             9994 non-null   float64\n",
      " 20  Profit               9994 non-null   float64\n",
      " 21  datastream_metadata  9994 non-null   object \n",
      "dtypes: Int64(3), float64(3), object(16)\n",
      "memory usage: 1.7+ MB\n"
     ]
    }
   ],
   "source": [
    "df.info()"
   ]
  },
  {
   "cell_type": "code",
   "execution_count": 9,
   "id": "a5b5249b-8bef-47e5-b8d1-396f13284482",
   "metadata": {},
   "outputs": [],
   "source": [
    "orders_df = df.copy()\n",
    "orders_df[\"Order_Date\"] = pd.to_datetime(orders_df[\"Order_Date\"])\n",
    "orders_df[\"Ship_Date\"] = pd.to_datetime(orders_df[\"Ship_Date\"])\n",
    "orders_df[\"Postal_Code\"] = orders_df[\"Postal_Code\"].astype(str)"
   ]
  },
  {
   "cell_type": "markdown",
   "id": "32d55dd4-219b-4bde-b82c-c7a4b99404e0",
   "metadata": {},
   "source": [
    "### Feature Engineering"
   ]
  },
  {
   "cell_type": "code",
   "execution_count": 10,
   "id": "e7fc4c95-086e-43fb-9068-d6bfddaeebd6",
   "metadata": {},
   "outputs": [],
   "source": [
    "orders_df[\"Discount_Amount\"] = orders_df[\"Sales\"] * orders_df[\"Discount\"]"
   ]
  },
  {
   "cell_type": "code",
   "execution_count": 11,
   "id": "1ba9598d-8fc0-4334-a394-3cf632be8764",
   "metadata": {},
   "outputs": [
    {
     "data": {
      "text/html": [
       "<div>\n",
       "<style scoped>\n",
       "    .dataframe tbody tr th:only-of-type {\n",
       "        vertical-align: middle;\n",
       "    }\n",
       "\n",
       "    .dataframe tbody tr th {\n",
       "        vertical-align: top;\n",
       "    }\n",
       "\n",
       "    .dataframe thead th {\n",
       "        text-align: right;\n",
       "    }\n",
       "</style>\n",
       "<table border=\"1\" class=\"dataframe\">\n",
       "  <thead>\n",
       "    <tr style=\"text-align: right;\">\n",
       "      <th></th>\n",
       "      <th>Customer_ID</th>\n",
       "      <th>Order_Date</th>\n",
       "      <th>Ship_Mode</th>\n",
       "      <th>Segment</th>\n",
       "      <th>Category</th>\n",
       "      <th>Region</th>\n",
       "      <th>Order_ID</th>\n",
       "      <th>Sales</th>\n",
       "      <th>Discount_Amount</th>\n",
       "    </tr>\n",
       "  </thead>\n",
       "  <tbody>\n",
       "    <tr>\n",
       "      <th>0</th>\n",
       "      <td>AA-10315</td>\n",
       "      <td>2017-06-29</td>\n",
       "      <td>Standard Class</td>\n",
       "      <td>Consumer</td>\n",
       "      <td>Office Supplies</td>\n",
       "      <td>Central</td>\n",
       "      <td>5</td>\n",
       "      <td>5563.560</td>\n",
       "      <td>1015.92800</td>\n",
       "    </tr>\n",
       "    <tr>\n",
       "      <th>1</th>\n",
       "      <td>AA-10375</td>\n",
       "      <td>2017-12-11</td>\n",
       "      <td>Standard Class</td>\n",
       "      <td>Consumer</td>\n",
       "      <td>Office Supplies</td>\n",
       "      <td>East</td>\n",
       "      <td>9</td>\n",
       "      <td>1056.390</td>\n",
       "      <td>34.54400</td>\n",
       "    </tr>\n",
       "    <tr>\n",
       "      <th>2</th>\n",
       "      <td>AA-10480</td>\n",
       "      <td>2017-04-15</td>\n",
       "      <td>Standard Class</td>\n",
       "      <td>Consumer</td>\n",
       "      <td>Office Supplies</td>\n",
       "      <td>Central</td>\n",
       "      <td>4</td>\n",
       "      <td>1790.512</td>\n",
       "      <td>3.11040</td>\n",
       "    </tr>\n",
       "    <tr>\n",
       "      <th>3</th>\n",
       "      <td>AA-10645</td>\n",
       "      <td>2017-11-05</td>\n",
       "      <td>Standard Class</td>\n",
       "      <td>Consumer</td>\n",
       "      <td>Furniture</td>\n",
       "      <td>East</td>\n",
       "      <td>6</td>\n",
       "      <td>5086.935</td>\n",
       "      <td>532.18395</td>\n",
       "    </tr>\n",
       "    <tr>\n",
       "      <th>4</th>\n",
       "      <td>AB-10015</td>\n",
       "      <td>2016-11-10</td>\n",
       "      <td>First Class</td>\n",
       "      <td>Consumer</td>\n",
       "      <td>Office Supplies</td>\n",
       "      <td>Central</td>\n",
       "      <td>3</td>\n",
       "      <td>886.156</td>\n",
       "      <td>12.26720</td>\n",
       "    </tr>\n",
       "  </tbody>\n",
       "</table>\n",
       "</div>"
      ],
      "text/plain": [
       "  Customer_ID Order_Date       Ship_Mode   Segment         Category   Region  \\\n",
       "0    AA-10315 2017-06-29  Standard Class  Consumer  Office Supplies  Central   \n",
       "1    AA-10375 2017-12-11  Standard Class  Consumer  Office Supplies     East   \n",
       "2    AA-10480 2017-04-15  Standard Class  Consumer  Office Supplies  Central   \n",
       "3    AA-10645 2017-11-05  Standard Class  Consumer        Furniture     East   \n",
       "4    AB-10015 2016-11-10     First Class  Consumer  Office Supplies  Central   \n",
       "\n",
       "   Order_ID     Sales  Discount_Amount  \n",
       "0         5  5563.560       1015.92800  \n",
       "1         9  1056.390         34.54400  \n",
       "2         4  1790.512          3.11040  \n",
       "3         6  5086.935        532.18395  \n",
       "4         3   886.156         12.26720  "
      ]
     },
     "execution_count": 11,
     "metadata": {},
     "output_type": "execute_result"
    }
   ],
   "source": [
    "main_df = orders_df.groupby(by=\"Customer_ID\", as_index=False).agg({\n",
    "    \"Order_Date\": \"max\",\n",
    "    \"Ship_Mode\": (lambda x: x.mode()[0]),\n",
    "    \"Segment\": (lambda x: x.mode()[0]),\n",
    "    \"Category\": (lambda x: x.mode()[0]),\n",
    "    \"Region\": (lambda x: x.mode()[0]),\n",
    "    \"Order_ID\": \"nunique\",\n",
    "    \"Sales\": \"sum\",\n",
    "    \"Discount_Amount\": \"sum\"\n",
    "})\n",
    "main_df.head(5)"
   ]
  },
  {
   "cell_type": "code",
   "execution_count": 12,
   "id": "97f7edd5-80a9-4370-b46d-fe6331e1f432",
   "metadata": {},
   "outputs": [
    {
     "data": {
      "text/html": [
       "<div>\n",
       "<style scoped>\n",
       "    .dataframe tbody tr th:only-of-type {\n",
       "        vertical-align: middle;\n",
       "    }\n",
       "\n",
       "    .dataframe tbody tr th {\n",
       "        vertical-align: top;\n",
       "    }\n",
       "\n",
       "    .dataframe thead th {\n",
       "        text-align: right;\n",
       "    }\n",
       "</style>\n",
       "<table border=\"1\" class=\"dataframe\">\n",
       "  <thead>\n",
       "    <tr style=\"text-align: right;\">\n",
       "      <th></th>\n",
       "      <th>customer_id</th>\n",
       "      <th>max_order_timestamp</th>\n",
       "      <th>ship_mode</th>\n",
       "      <th>type_customers</th>\n",
       "      <th>category</th>\n",
       "      <th>region</th>\n",
       "      <th>frequency</th>\n",
       "      <th>monetary</th>\n",
       "      <th>discount</th>\n",
       "    </tr>\n",
       "  </thead>\n",
       "  <tbody>\n",
       "    <tr>\n",
       "      <th>0</th>\n",
       "      <td>AA-10315</td>\n",
       "      <td>2017-06-29</td>\n",
       "      <td>Standard Class</td>\n",
       "      <td>Consumer</td>\n",
       "      <td>Office Supplies</td>\n",
       "      <td>Central</td>\n",
       "      <td>5</td>\n",
       "      <td>5563.560</td>\n",
       "      <td>1015.92800</td>\n",
       "    </tr>\n",
       "    <tr>\n",
       "      <th>1</th>\n",
       "      <td>AA-10375</td>\n",
       "      <td>2017-12-11</td>\n",
       "      <td>Standard Class</td>\n",
       "      <td>Consumer</td>\n",
       "      <td>Office Supplies</td>\n",
       "      <td>East</td>\n",
       "      <td>9</td>\n",
       "      <td>1056.390</td>\n",
       "      <td>34.54400</td>\n",
       "    </tr>\n",
       "    <tr>\n",
       "      <th>2</th>\n",
       "      <td>AA-10480</td>\n",
       "      <td>2017-04-15</td>\n",
       "      <td>Standard Class</td>\n",
       "      <td>Consumer</td>\n",
       "      <td>Office Supplies</td>\n",
       "      <td>Central</td>\n",
       "      <td>4</td>\n",
       "      <td>1790.512</td>\n",
       "      <td>3.11040</td>\n",
       "    </tr>\n",
       "    <tr>\n",
       "      <th>3</th>\n",
       "      <td>AA-10645</td>\n",
       "      <td>2017-11-05</td>\n",
       "      <td>Standard Class</td>\n",
       "      <td>Consumer</td>\n",
       "      <td>Furniture</td>\n",
       "      <td>East</td>\n",
       "      <td>6</td>\n",
       "      <td>5086.935</td>\n",
       "      <td>532.18395</td>\n",
       "    </tr>\n",
       "    <tr>\n",
       "      <th>4</th>\n",
       "      <td>AB-10015</td>\n",
       "      <td>2016-11-10</td>\n",
       "      <td>First Class</td>\n",
       "      <td>Consumer</td>\n",
       "      <td>Office Supplies</td>\n",
       "      <td>Central</td>\n",
       "      <td>3</td>\n",
       "      <td>886.156</td>\n",
       "      <td>12.26720</td>\n",
       "    </tr>\n",
       "  </tbody>\n",
       "</table>\n",
       "</div>"
      ],
      "text/plain": [
       "  customer_id max_order_timestamp       ship_mode type_customers  \\\n",
       "0    AA-10315          2017-06-29  Standard Class       Consumer   \n",
       "1    AA-10375          2017-12-11  Standard Class       Consumer   \n",
       "2    AA-10480          2017-04-15  Standard Class       Consumer   \n",
       "3    AA-10645          2017-11-05  Standard Class       Consumer   \n",
       "4    AB-10015          2016-11-10     First Class       Consumer   \n",
       "\n",
       "          category   region  frequency  monetary    discount  \n",
       "0  Office Supplies  Central          5  5563.560  1015.92800  \n",
       "1  Office Supplies     East          9  1056.390    34.54400  \n",
       "2  Office Supplies  Central          4  1790.512     3.11040  \n",
       "3        Furniture     East          6  5086.935   532.18395  \n",
       "4  Office Supplies  Central          3   886.156    12.26720  "
      ]
     },
     "execution_count": 12,
     "metadata": {},
     "output_type": "execute_result"
    }
   ],
   "source": [
    "main_df.columns = [\"customer_id\", \"max_order_timestamp\", \"ship_mode\", \"type_customers\", \"category\", \"region\", \"frequency\", \"monetary\", \"discount\"]\n",
    "main_df.head(5)"
   ]
  },
  {
   "cell_type": "code",
   "execution_count": 13,
   "id": "13657760-f9ab-4d4b-a2fd-77d3501d422e",
   "metadata": {},
   "outputs": [
    {
     "data": {
      "text/html": [
       "<div>\n",
       "<style scoped>\n",
       "    .dataframe tbody tr th:only-of-type {\n",
       "        vertical-align: middle;\n",
       "    }\n",
       "\n",
       "    .dataframe tbody tr th {\n",
       "        vertical-align: top;\n",
       "    }\n",
       "\n",
       "    .dataframe thead th {\n",
       "        text-align: right;\n",
       "    }\n",
       "</style>\n",
       "<table border=\"1\" class=\"dataframe\">\n",
       "  <thead>\n",
       "    <tr style=\"text-align: right;\">\n",
       "      <th></th>\n",
       "      <th>customer_id</th>\n",
       "      <th>max_order_timestamp</th>\n",
       "      <th>ship_mode</th>\n",
       "      <th>type_customers</th>\n",
       "      <th>category</th>\n",
       "      <th>region</th>\n",
       "      <th>frequency</th>\n",
       "      <th>monetary</th>\n",
       "      <th>discount</th>\n",
       "      <th>recency</th>\n",
       "    </tr>\n",
       "  </thead>\n",
       "  <tbody>\n",
       "    <tr>\n",
       "      <th>0</th>\n",
       "      <td>AA-10315</td>\n",
       "      <td>2017-06-29</td>\n",
       "      <td>Standard Class</td>\n",
       "      <td>Consumer</td>\n",
       "      <td>Office Supplies</td>\n",
       "      <td>Central</td>\n",
       "      <td>5</td>\n",
       "      <td>5563.560</td>\n",
       "      <td>1015.92800</td>\n",
       "      <td>184</td>\n",
       "    </tr>\n",
       "    <tr>\n",
       "      <th>1</th>\n",
       "      <td>AA-10375</td>\n",
       "      <td>2017-12-11</td>\n",
       "      <td>Standard Class</td>\n",
       "      <td>Consumer</td>\n",
       "      <td>Office Supplies</td>\n",
       "      <td>East</td>\n",
       "      <td>9</td>\n",
       "      <td>1056.390</td>\n",
       "      <td>34.54400</td>\n",
       "      <td>19</td>\n",
       "    </tr>\n",
       "    <tr>\n",
       "      <th>2</th>\n",
       "      <td>AA-10480</td>\n",
       "      <td>2017-04-15</td>\n",
       "      <td>Standard Class</td>\n",
       "      <td>Consumer</td>\n",
       "      <td>Office Supplies</td>\n",
       "      <td>Central</td>\n",
       "      <td>4</td>\n",
       "      <td>1790.512</td>\n",
       "      <td>3.11040</td>\n",
       "      <td>259</td>\n",
       "    </tr>\n",
       "    <tr>\n",
       "      <th>3</th>\n",
       "      <td>AA-10645</td>\n",
       "      <td>2017-11-05</td>\n",
       "      <td>Standard Class</td>\n",
       "      <td>Consumer</td>\n",
       "      <td>Furniture</td>\n",
       "      <td>East</td>\n",
       "      <td>6</td>\n",
       "      <td>5086.935</td>\n",
       "      <td>532.18395</td>\n",
       "      <td>55</td>\n",
       "    </tr>\n",
       "    <tr>\n",
       "      <th>4</th>\n",
       "      <td>AB-10015</td>\n",
       "      <td>2016-11-10</td>\n",
       "      <td>First Class</td>\n",
       "      <td>Consumer</td>\n",
       "      <td>Office Supplies</td>\n",
       "      <td>Central</td>\n",
       "      <td>3</td>\n",
       "      <td>886.156</td>\n",
       "      <td>12.26720</td>\n",
       "      <td>415</td>\n",
       "    </tr>\n",
       "  </tbody>\n",
       "</table>\n",
       "</div>"
      ],
      "text/plain": [
       "  customer_id max_order_timestamp       ship_mode type_customers  \\\n",
       "0    AA-10315          2017-06-29  Standard Class       Consumer   \n",
       "1    AA-10375          2017-12-11  Standard Class       Consumer   \n",
       "2    AA-10480          2017-04-15  Standard Class       Consumer   \n",
       "3    AA-10645          2017-11-05  Standard Class       Consumer   \n",
       "4    AB-10015          2016-11-10     First Class       Consumer   \n",
       "\n",
       "          category   region  frequency  monetary    discount  recency  \n",
       "0  Office Supplies  Central          5  5563.560  1015.92800      184  \n",
       "1  Office Supplies     East          9  1056.390    34.54400       19  \n",
       "2  Office Supplies  Central          4  1790.512     3.11040      259  \n",
       "3        Furniture     East          6  5086.935   532.18395       55  \n",
       "4  Office Supplies  Central          3   886.156    12.26720      415  "
      ]
     },
     "execution_count": 13,
     "metadata": {},
     "output_type": "execute_result"
    }
   ],
   "source": [
    "main_df[\"max_order_timestamp\"] = pd.to_datetime(main_df[\"max_order_timestamp\"])\n",
    "main_df[\"max_order_timestamp\"] = main_df[\"max_order_timestamp\"].dt.date\n",
    "recent_date = orders_df[\"Order_Date\"].dt.date.max()\n",
    "main_df[\"recency\"] = main_df[\"max_order_timestamp\"].apply(lambda x: (recent_date - x).days)\n",
    "\n",
    "main_df.head(5)"
   ]
  },
  {
   "cell_type": "markdown",
   "id": "dc078358-7b67-4a0e-858a-977363184fc8",
   "metadata": {},
   "source": [
    "## Exploratory Data Analysis"
   ]
  },
  {
   "cell_type": "code",
   "execution_count": 14,
   "id": "5a76bafc-d129-4a47-b655-2ea3a0563954",
   "metadata": {},
   "outputs": [
    {
     "data": {
      "text/html": [
       "<div>\n",
       "<style scoped>\n",
       "    .dataframe tbody tr th:only-of-type {\n",
       "        vertical-align: middle;\n",
       "    }\n",
       "\n",
       "    .dataframe tbody tr th {\n",
       "        vertical-align: top;\n",
       "    }\n",
       "\n",
       "    .dataframe thead th {\n",
       "        text-align: right;\n",
       "    }\n",
       "</style>\n",
       "<table border=\"1\" class=\"dataframe\">\n",
       "  <thead>\n",
       "    <tr style=\"text-align: right;\">\n",
       "      <th></th>\n",
       "      <th>customer_id</th>\n",
       "      <th>max_order_timestamp</th>\n",
       "      <th>ship_mode</th>\n",
       "      <th>type_customers</th>\n",
       "      <th>category</th>\n",
       "      <th>region</th>\n",
       "      <th>frequency</th>\n",
       "      <th>monetary</th>\n",
       "      <th>discount</th>\n",
       "      <th>recency</th>\n",
       "    </tr>\n",
       "  </thead>\n",
       "  <tbody>\n",
       "    <tr>\n",
       "      <th>count</th>\n",
       "      <td>793</td>\n",
       "      <td>793</td>\n",
       "      <td>793</td>\n",
       "      <td>793</td>\n",
       "      <td>793</td>\n",
       "      <td>793</td>\n",
       "      <td>793.000000</td>\n",
       "      <td>793.000000</td>\n",
       "      <td>793.000000</td>\n",
       "      <td>793.000000</td>\n",
       "    </tr>\n",
       "    <tr>\n",
       "      <th>unique</th>\n",
       "      <td>793</td>\n",
       "      <td>300</td>\n",
       "      <td>4</td>\n",
       "      <td>3</td>\n",
       "      <td>3</td>\n",
       "      <td>4</td>\n",
       "      <td>NaN</td>\n",
       "      <td>NaN</td>\n",
       "      <td>NaN</td>\n",
       "      <td>NaN</td>\n",
       "    </tr>\n",
       "    <tr>\n",
       "      <th>top</th>\n",
       "      <td>AA-10315</td>\n",
       "      <td>2017-12-02</td>\n",
       "      <td>Standard Class</td>\n",
       "      <td>Consumer</td>\n",
       "      <td>Office Supplies</td>\n",
       "      <td>East</td>\n",
       "      <td>NaN</td>\n",
       "      <td>NaN</td>\n",
       "      <td>NaN</td>\n",
       "      <td>NaN</td>\n",
       "    </tr>\n",
       "    <tr>\n",
       "      <th>freq</th>\n",
       "      <td>1</td>\n",
       "      <td>14</td>\n",
       "      <td>575</td>\n",
       "      <td>409</td>\n",
       "      <td>704</td>\n",
       "      <td>254</td>\n",
       "      <td>NaN</td>\n",
       "      <td>NaN</td>\n",
       "      <td>NaN</td>\n",
       "      <td>NaN</td>\n",
       "    </tr>\n",
       "    <tr>\n",
       "      <th>mean</th>\n",
       "      <td>NaN</td>\n",
       "      <td>NaN</td>\n",
       "      <td>NaN</td>\n",
       "      <td>NaN</td>\n",
       "      <td>NaN</td>\n",
       "      <td>NaN</td>\n",
       "      <td>6.316520</td>\n",
       "      <td>2896.848500</td>\n",
       "      <td>406.787055</td>\n",
       "      <td>146.802018</td>\n",
       "    </tr>\n",
       "    <tr>\n",
       "      <th>std</th>\n",
       "      <td>NaN</td>\n",
       "      <td>NaN</td>\n",
       "      <td>NaN</td>\n",
       "      <td>NaN</td>\n",
       "      <td>NaN</td>\n",
       "      <td>NaN</td>\n",
       "      <td>2.550885</td>\n",
       "      <td>2628.670117</td>\n",
       "      <td>632.372871</td>\n",
       "      <td>186.211051</td>\n",
       "    </tr>\n",
       "    <tr>\n",
       "      <th>min</th>\n",
       "      <td>NaN</td>\n",
       "      <td>NaN</td>\n",
       "      <td>NaN</td>\n",
       "      <td>NaN</td>\n",
       "      <td>NaN</td>\n",
       "      <td>NaN</td>\n",
       "      <td>1.000000</td>\n",
       "      <td>4.833000</td>\n",
       "      <td>0.000000</td>\n",
       "      <td>0.000000</td>\n",
       "    </tr>\n",
       "    <tr>\n",
       "      <th>25%</th>\n",
       "      <td>NaN</td>\n",
       "      <td>NaN</td>\n",
       "      <td>NaN</td>\n",
       "      <td>NaN</td>\n",
       "      <td>NaN</td>\n",
       "      <td>NaN</td>\n",
       "      <td>5.000000</td>\n",
       "      <td>1146.050000</td>\n",
       "      <td>102.691200</td>\n",
       "      <td>30.000000</td>\n",
       "    </tr>\n",
       "    <tr>\n",
       "      <th>50%</th>\n",
       "      <td>NaN</td>\n",
       "      <td>NaN</td>\n",
       "      <td>NaN</td>\n",
       "      <td>NaN</td>\n",
       "      <td>NaN</td>\n",
       "      <td>NaN</td>\n",
       "      <td>6.000000</td>\n",
       "      <td>2256.394000</td>\n",
       "      <td>247.915600</td>\n",
       "      <td>75.000000</td>\n",
       "    </tr>\n",
       "    <tr>\n",
       "      <th>75%</th>\n",
       "      <td>NaN</td>\n",
       "      <td>NaN</td>\n",
       "      <td>NaN</td>\n",
       "      <td>NaN</td>\n",
       "      <td>NaN</td>\n",
       "      <td>NaN</td>\n",
       "      <td>8.000000</td>\n",
       "      <td>3785.276000</td>\n",
       "      <td>491.433300</td>\n",
       "      <td>183.000000</td>\n",
       "    </tr>\n",
       "    <tr>\n",
       "      <th>max</th>\n",
       "      <td>NaN</td>\n",
       "      <td>NaN</td>\n",
       "      <td>NaN</td>\n",
       "      <td>NaN</td>\n",
       "      <td>NaN</td>\n",
       "      <td>NaN</td>\n",
       "      <td>17.000000</td>\n",
       "      <td>25043.050000</td>\n",
       "      <td>11989.056000</td>\n",
       "      <td>1165.000000</td>\n",
       "    </tr>\n",
       "  </tbody>\n",
       "</table>\n",
       "</div>"
      ],
      "text/plain": [
       "       customer_id max_order_timestamp       ship_mode type_customers  \\\n",
       "count          793                 793             793            793   \n",
       "unique         793                 300               4              3   \n",
       "top       AA-10315          2017-12-02  Standard Class       Consumer   \n",
       "freq             1                  14             575            409   \n",
       "mean           NaN                 NaN             NaN            NaN   \n",
       "std            NaN                 NaN             NaN            NaN   \n",
       "min            NaN                 NaN             NaN            NaN   \n",
       "25%            NaN                 NaN             NaN            NaN   \n",
       "50%            NaN                 NaN             NaN            NaN   \n",
       "75%            NaN                 NaN             NaN            NaN   \n",
       "max            NaN                 NaN             NaN            NaN   \n",
       "\n",
       "               category region   frequency      monetary      discount  \\\n",
       "count               793    793  793.000000    793.000000    793.000000   \n",
       "unique                3      4         NaN           NaN           NaN   \n",
       "top     Office Supplies   East         NaN           NaN           NaN   \n",
       "freq                704    254         NaN           NaN           NaN   \n",
       "mean                NaN    NaN    6.316520   2896.848500    406.787055   \n",
       "std                 NaN    NaN    2.550885   2628.670117    632.372871   \n",
       "min                 NaN    NaN    1.000000      4.833000      0.000000   \n",
       "25%                 NaN    NaN    5.000000   1146.050000    102.691200   \n",
       "50%                 NaN    NaN    6.000000   2256.394000    247.915600   \n",
       "75%                 NaN    NaN    8.000000   3785.276000    491.433300   \n",
       "max                 NaN    NaN   17.000000  25043.050000  11989.056000   \n",
       "\n",
       "            recency  \n",
       "count    793.000000  \n",
       "unique          NaN  \n",
       "top             NaN  \n",
       "freq            NaN  \n",
       "mean     146.802018  \n",
       "std      186.211051  \n",
       "min        0.000000  \n",
       "25%       30.000000  \n",
       "50%       75.000000  \n",
       "75%      183.000000  \n",
       "max     1165.000000  "
      ]
     },
     "execution_count": 14,
     "metadata": {},
     "output_type": "execute_result"
    }
   ],
   "source": [
    "main_df.describe(include=\"all\")"
   ]
  },
  {
   "cell_type": "code",
   "execution_count": 15,
   "id": "11ad8243-730f-4f00-935b-49f0e46d574a",
   "metadata": {},
   "outputs": [
    {
     "data": {
      "text/plain": [
       "array([[<Axes: title={'center': 'frequency'}>,\n",
       "        <Axes: title={'center': 'monetary'}>],\n",
       "       [<Axes: title={'center': 'discount'}>,\n",
       "        <Axes: title={'center': 'recency'}>]], dtype=object)"
      ]
     },
     "execution_count": 15,
     "metadata": {},
     "output_type": "execute_result"
    },
    {
     "data": {
      "image/png": "[encoded data removed]",
      "text/plain": [
       "<Figure size 640x480 with 4 Axes>"
      ]
     },
     "metadata": {},
     "output_type": "display_data"
    }
   ],
   "source": [
    "numerical = [\"frequency\", \"monetary\", \"discount\", \"recency\"]\n",
    "main_df[numerical].hist(bins=15, grid=False)"
   ]
  },
  {
   "cell_type": "code",
   "execution_count": 16,
   "id": "39765bb5-cb93-4eb6-96d2-e07f119616de",
   "metadata": {},
   "outputs": [
    {
     "data": {
      "image/png": "[encoded data removed]",
      "text/plain": [
       "<Figure size 800x1500 with 4 Axes>"
      ]
     },
     "metadata": {},
     "output_type": "display_data"
    }
   ],
   "source": [
    "import matplotlib.pyplot as plt\n",
    "import seaborn as sns\n",
    "\n",
    "def numerical_dis_plot(features, df, segment_feature=None, showfliers=False):\n",
    "    fig, ax = plt.subplots(len(features), 1,figsize=(8,15))\n",
    "    for i, feature in enumerate(features):\n",
    "        if segment_feature:\n",
    "            sns.boxplot(y=segment_feature, x=feature, data=df, ax=ax[i], showfliers=showfliers)\n",
    "            ax[i].set_ylabel(None)\n",
    "        else:\n",
    "            sns.boxplot(x=feature, data=df, ax=ax[i], showfliers=showfliers)\n",
    "    plt.tight_layout()\n",
    "    plt.show()\n",
    "\n",
    "numerical_dis_plot(\n",
    "    features=[\"recency\", \"frequency\", \"monetary\", \"discount\"], \n",
    "    df=main_df, \n",
    "    segment_feature=\"type_customers\"\n",
    ")"
   ]
  },
  {
   "cell_type": "markdown",
   "id": "b76d9b0f-0db1-4f04-8c89-230a8d29753c",
   "metadata": {},
   "source": [
    "## Modelling"
   ]
  },
  {
   "cell_type": "code",
   "execution_count": 17,
   "id": "e388b368-4fe0-4c23-9d51-f7a79a2e0241",
   "metadata": {},
   "outputs": [
    {
     "data": {
      "text/html": [
       "<div>\n",
       "<style scoped>\n",
       "    .dataframe tbody tr th:only-of-type {\n",
       "        vertical-align: middle;\n",
       "    }\n",
       "\n",
       "    .dataframe tbody tr th {\n",
       "        vertical-align: top;\n",
       "    }\n",
       "\n",
       "    .dataframe thead th {\n",
       "        text-align: right;\n",
       "    }\n",
       "</style>\n",
       "<table border=\"1\" class=\"dataframe\">\n",
       "  <thead>\n",
       "    <tr style=\"text-align: right;\">\n",
       "      <th></th>\n",
       "      <th>customer_id</th>\n",
       "      <th>recency</th>\n",
       "      <th>frequency</th>\n",
       "      <th>monetary</th>\n",
       "      <th>discount</th>\n",
       "    </tr>\n",
       "  </thead>\n",
       "  <tbody>\n",
       "    <tr>\n",
       "      <th>0</th>\n",
       "      <td>AA-10315</td>\n",
       "      <td>184</td>\n",
       "      <td>5</td>\n",
       "      <td>5563.560</td>\n",
       "      <td>1015.92800</td>\n",
       "    </tr>\n",
       "    <tr>\n",
       "      <th>1</th>\n",
       "      <td>AA-10375</td>\n",
       "      <td>19</td>\n",
       "      <td>9</td>\n",
       "      <td>1056.390</td>\n",
       "      <td>34.54400</td>\n",
       "    </tr>\n",
       "    <tr>\n",
       "      <th>2</th>\n",
       "      <td>AA-10480</td>\n",
       "      <td>259</td>\n",
       "      <td>4</td>\n",
       "      <td>1790.512</td>\n",
       "      <td>3.11040</td>\n",
       "    </tr>\n",
       "    <tr>\n",
       "      <th>3</th>\n",
       "      <td>AA-10645</td>\n",
       "      <td>55</td>\n",
       "      <td>6</td>\n",
       "      <td>5086.935</td>\n",
       "      <td>532.18395</td>\n",
       "    </tr>\n",
       "    <tr>\n",
       "      <th>4</th>\n",
       "      <td>AB-10015</td>\n",
       "      <td>415</td>\n",
       "      <td>3</td>\n",
       "      <td>886.156</td>\n",
       "      <td>12.26720</td>\n",
       "    </tr>\n",
       "  </tbody>\n",
       "</table>\n",
       "</div>"
      ],
      "text/plain": [
       "  customer_id  recency  frequency  monetary    discount\n",
       "0    AA-10315      184          5  5563.560  1015.92800\n",
       "1    AA-10375       19          9  1056.390    34.54400\n",
       "2    AA-10480      259          4  1790.512     3.11040\n",
       "3    AA-10645       55          6  5086.935   532.18395\n",
       "4    AB-10015      415          3   886.156    12.26720"
      ]
     },
     "execution_count": 17,
     "metadata": {},
     "output_type": "execute_result"
    }
   ],
   "source": [
    "kmeans_df = main_df[[\"customer_id\", \"recency\", \"frequency\", \"monetary\", \"discount\"]]\n",
    "kmeans_df.head(5)"
   ]
  },
  {
   "cell_type": "code",
   "execution_count": 18,
   "id": "ef3f2320-35ae-46d2-b2ea-3d26583996d4",
   "metadata": {},
   "outputs": [],
   "source": [
    "from sklearn.preprocessing import PowerTransformer\n",
    "import joblib\n",
    "\n",
    "def power_transforms(features, df):\n",
    "  df = df[features]\n",
    "  for feature in features:\n",
    "    transformer = PowerTransformer(standardize=True)\n",
    "    y = np.asanyarray(df[feature])\n",
    "    y = y.reshape(-1,1)\n",
    "    transformer.fit(y)\n",
    "    df[\"transform_{}\".format(feature)] = transformer.transform(y)\n",
    "    df.drop([feature], axis=1, inplace=True)\n",
    "    joblib.dump(transformer, \"transformer_{}.joblib\".format(feature))\n",
    "  return df"
   ]
  },
  {
   "cell_type": "code",
   "execution_count": 19,
   "id": "ae4457c7-6a05-4ab0-99db-642d9d65343c",
   "metadata": {},
   "outputs": [
    {
     "data": {
      "text/html": [
       "<div>\n",
       "<style scoped>\n",
       "    .dataframe tbody tr th:only-of-type {\n",
       "        vertical-align: middle;\n",
       "    }\n",
       "\n",
       "    .dataframe tbody tr th {\n",
       "        vertical-align: top;\n",
       "    }\n",
       "\n",
       "    .dataframe thead th {\n",
       "        text-align: right;\n",
       "    }\n",
       "</style>\n",
       "<table border=\"1\" class=\"dataframe\">\n",
       "  <thead>\n",
       "    <tr style=\"text-align: right;\">\n",
       "      <th></th>\n",
       "      <th>transform_recency</th>\n",
       "      <th>transform_frequency</th>\n",
       "      <th>transform_monetary</th>\n",
       "      <th>transform_discount</th>\n",
       "    </tr>\n",
       "  </thead>\n",
       "  <tbody>\n",
       "    <tr>\n",
       "      <th>0</th>\n",
       "      <td>0.701552</td>\n",
       "      <td>-0.459931</td>\n",
       "      <td>1.142958</td>\n",
       "      <td>1.325414</td>\n",
       "    </tr>\n",
       "    <tr>\n",
       "      <th>1</th>\n",
       "      <td>-0.994117</td>\n",
       "      <td>1.046277</td>\n",
       "      <td>-0.719477</td>\n",
       "      <td>-1.177057</td>\n",
       "    </tr>\n",
       "    <tr>\n",
       "      <th>2</th>\n",
       "      <td>0.996872</td>\n",
       "      <td>-0.893752</td>\n",
       "      <td>-0.220629</td>\n",
       "      <td>-1.993385</td>\n",
       "    </tr>\n",
       "    <tr>\n",
       "      <th>3</th>\n",
       "      <td>-0.257312</td>\n",
       "      <td>-0.053650</td>\n",
       "      <td>1.018462</td>\n",
       "      <td>0.675151</td>\n",
       "    </tr>\n",
       "    <tr>\n",
       "      <th>4</th>\n",
       "      <td>1.422079</td>\n",
       "      <td>-1.363189</td>\n",
       "      <td>-0.869587</td>\n",
       "      <td>-1.602655</td>\n",
       "    </tr>\n",
       "  </tbody>\n",
       "</table>\n",
       "</div>"
      ],
      "text/plain": [
       "   transform_recency  transform_frequency  transform_monetary  \\\n",
       "0           0.701552            -0.459931            1.142958   \n",
       "1          -0.994117             1.046277           -0.719477   \n",
       "2           0.996872            -0.893752           -0.220629   \n",
       "3          -0.257312            -0.053650            1.018462   \n",
       "4           1.422079            -1.363189           -0.869587   \n",
       "\n",
       "   transform_discount  \n",
       "0            1.325414  \n",
       "1           -1.177057  \n",
       "2           -1.993385  \n",
       "3            0.675151  \n",
       "4           -1.602655  "
      ]
     },
     "execution_count": 19,
     "metadata": {},
     "output_type": "execute_result"
    }
   ],
   "source": [
    "transformed_kmeans_df = power_transforms(\n",
    "    features=[\"recency\", \"frequency\", \"monetary\", \"discount\"],\n",
    "    df=kmeans_df\n",
    ")\n",
    "transformed_kmeans_df.head()"
   ]
  },
  {
   "cell_type": "code",
   "execution_count": 20,
   "id": "ccc8c696-b950-47a0-b6e3-fcf08c93fea7",
   "metadata": {},
   "outputs": [
    {
     "data": {
      "image/png": "[encoded data removed]",
      "text/plain": [
       "<Figure size 800x1500 with 4 Axes>"
      ]
     },
     "metadata": {},
     "output_type": "display_data"
    }
   ],
   "source": [
    "numerical_dis_plot(\n",
    "    features=[\"transform_recency\", \"transform_frequency\", \"transform_monetary\", \"transform_discount\"],\n",
    "    df=transformed_kmeans_df,\n",
    ")"
   ]
  },
  {
   "cell_type": "code",
   "execution_count": 21,
   "id": "cec35e8f-5f5f-4f13-b931-699ab473968a",
   "metadata": {},
   "outputs": [
    {
     "name": "stderr",
     "output_type": "stream",
     "text": [
      "/opt/conda/lib/python3.10/site-packages/sklearn/cluster/_kmeans.py:1412: FutureWarning: The default value of `n_init` will change from 10 to 'auto' in 1.4. Set the value of `n_init` explicitly to suppress the warning\n",
      "  super()._check_params_vs_input(X, default_n_init=10)\n",
      "/opt/conda/lib/python3.10/site-packages/sklearn/cluster/_kmeans.py:1412: FutureWarning: The default value of `n_init` will change from 10 to 'auto' in 1.4. Set the value of `n_init` explicitly to suppress the warning\n",
      "  super()._check_params_vs_input(X, default_n_init=10)\n",
      "/opt/conda/lib/python3.10/site-packages/sklearn/cluster/_kmeans.py:1412: FutureWarning: The default value of `n_init` will change from 10 to 'auto' in 1.4. Set the value of `n_init` explicitly to suppress the warning\n",
      "  super()._check_params_vs_input(X, default_n_init=10)\n",
      "/opt/conda/lib/python3.10/site-packages/sklearn/cluster/_kmeans.py:1412: FutureWarning: The default value of `n_init` will change from 10 to 'auto' in 1.4. Set the value of `n_init` explicitly to suppress the warning\n",
      "  super()._check_params_vs_input(X, default_n_init=10)\n",
      "/opt/conda/lib/python3.10/site-packages/sklearn/cluster/_kmeans.py:1412: FutureWarning: The default value of `n_init` will change from 10 to 'auto' in 1.4. Set the value of `n_init` explicitly to suppress the warning\n",
      "  super()._check_params_vs_input(X, default_n_init=10)\n",
      "/opt/conda/lib/python3.10/site-packages/sklearn/cluster/_kmeans.py:1412: FutureWarning: The default value of `n_init` will change from 10 to 'auto' in 1.4. Set the value of `n_init` explicitly to suppress the warning\n",
      "  super()._check_params_vs_input(X, default_n_init=10)\n",
      "/opt/conda/lib/python3.10/site-packages/sklearn/cluster/_kmeans.py:1412: FutureWarning: The default value of `n_init` will change from 10 to 'auto' in 1.4. Set the value of `n_init` explicitly to suppress the warning\n",
      "  super()._check_params_vs_input(X, default_n_init=10)\n",
      "/opt/conda/lib/python3.10/site-packages/sklearn/cluster/_kmeans.py:1412: FutureWarning: The default value of `n_init` will change from 10 to 'auto' in 1.4. Set the value of `n_init` explicitly to suppress the warning\n",
      "  super()._check_params_vs_input(X, default_n_init=10)\n"
     ]
    },
    {
     "data": {
      "image/png": "[encoded data removed]",
      "text/plain": [
       "<Figure size 1100x400 with 2 Axes>"
      ]
     },
     "metadata": {},
     "output_type": "display_data"
    }
   ],
   "source": [
    "from sklearn.cluster import KMeans\n",
    "from sklearn.metrics import silhouette_score\n",
    "\n",
    "inertia = {}\n",
    "silhouette = {}\n",
    "\n",
    "for k in range(2,10):\n",
    "    model = KMeans(n_clusters = k, random_state=75)\n",
    "    model.fit_predict(transformed_kmeans_df)\n",
    "    inertia[k]= model.inertia_ # Calculate the inertia\n",
    "    silhouette[k]= silhouette_score(transformed_kmeans_df, model.labels_) # Calculate the silhouette coefficient\n",
    "\n",
    "fig, axs = plt.subplots(1,2, figsize = (11,4))\n",
    "axs[0].plot(inertia.keys(), inertia.values(), marker = 'o', lw = 3)\n",
    "axs[0].set_xlabel('Number of Clusters', fontsize = 12)\n",
    "axs[0].set_ylabel('Inertia')\n",
    "axs[0].set_title('The Elbow Method', fontsize = 15)\n",
    "\n",
    "axs[1].plot(inertia.keys(), silhouette.values(), marker = '*' , lw = 3)\n",
    "axs[1].set_xlabel('Number of Clusters', fontsize = 12)\n",
    "axs[1].set_ylabel('Silhouette Coefficient')\n",
    "axs[1].set_title('The Silhouette Method', fontsize = 15)\n",
    "plt.show()"
   ]
  },
  {
   "cell_type": "code",
   "execution_count": 43,
   "id": "9b7c5665-4392-48ff-a671-dc0b36e1b47e",
   "metadata": {},
   "outputs": [
    {
     "name": "stderr",
     "output_type": "stream",
     "text": [
      "/opt/conda/lib/python3.10/site-packages/sklearn/cluster/_kmeans.py:1412: FutureWarning: The default value of `n_init` will change from 10 to 'auto' in 1.4. Set the value of `n_init` explicitly to suppress the warning\n",
      "  super()._check_params_vs_input(X, default_n_init=10)\n"
     ]
    },
    {
     "data": {
      "text/plain": [
       "['model.joblib']"
      ]
     },
     "execution_count": 43,
     "metadata": {},
     "output_type": "execute_result"
    }
   ],
   "source": [
    "K = 4\n",
    "\n",
    "model = KMeans(n_clusters=K, random_state=75)\n",
    "model.fit(transformed_kmeans_df)\n",
    "\n",
    "joblib.dump(model, \"model.joblib\")"
   ]
  },
  {
   "cell_type": "code",
   "execution_count": 44,
   "id": "066ac677-9e2a-4966-9eb7-e5db5f656afe",
   "metadata": {},
   "outputs": [
    {
     "name": "stderr",
     "output_type": "stream",
     "text": [
      "/var/tmp/ipykernel_38158/1114921852.py:3: SettingWithCopyWarning: \n",
      "A value is trying to be set on a copy of a slice from a DataFrame.\n",
      "Try using .loc[row_indexer,col_indexer] = value instead\n",
      "\n",
      "See the caveats in the documentation: https://pandas.pydata.org/pandas-docs/stable/user_guide/indexing.html#returning-a-view-versus-a-copy\n",
      "  kmeans_df[\"customer_segment\"] = clusters.astype(str)\n"
     ]
    },
    {
     "data": {
      "text/html": [
       "<div>\n",
       "<style scoped>\n",
       "    .dataframe tbody tr th:only-of-type {\n",
       "        vertical-align: middle;\n",
       "    }\n",
       "\n",
       "    .dataframe tbody tr th {\n",
       "        vertical-align: top;\n",
       "    }\n",
       "\n",
       "    .dataframe thead th {\n",
       "        text-align: right;\n",
       "    }\n",
       "</style>\n",
       "<table border=\"1\" class=\"dataframe\">\n",
       "  <thead>\n",
       "    <tr style=\"text-align: right;\">\n",
       "      <th></th>\n",
       "      <th>customer_id</th>\n",
       "      <th>recency</th>\n",
       "      <th>frequency</th>\n",
       "      <th>monetary</th>\n",
       "      <th>discount</th>\n",
       "      <th>customer_segment</th>\n",
       "    </tr>\n",
       "  </thead>\n",
       "  <tbody>\n",
       "    <tr>\n",
       "      <th>382</th>\n",
       "      <td>JK-16120</td>\n",
       "      <td>117</td>\n",
       "      <td>10</td>\n",
       "      <td>2932.484</td>\n",
       "      <td>543.82000</td>\n",
       "      <td>0</td>\n",
       "    </tr>\n",
       "    <tr>\n",
       "      <th>431</th>\n",
       "      <td>KH-16630</td>\n",
       "      <td>58</td>\n",
       "      <td>9</td>\n",
       "      <td>3918.966</td>\n",
       "      <td>261.59520</td>\n",
       "      <td>0</td>\n",
       "    </tr>\n",
       "    <tr>\n",
       "      <th>520</th>\n",
       "      <td>ML-17410</td>\n",
       "      <td>54</td>\n",
       "      <td>6</td>\n",
       "      <td>2921.500</td>\n",
       "      <td>554.19320</td>\n",
       "      <td>2</td>\n",
       "    </tr>\n",
       "    <tr>\n",
       "      <th>618</th>\n",
       "      <td>RA-19915</td>\n",
       "      <td>12</td>\n",
       "      <td>9</td>\n",
       "      <td>4793.543</td>\n",
       "      <td>940.26155</td>\n",
       "      <td>0</td>\n",
       "    </tr>\n",
       "    <tr>\n",
       "      <th>344</th>\n",
       "      <td>JC-15340</td>\n",
       "      <td>114</td>\n",
       "      <td>4</td>\n",
       "      <td>71.263</td>\n",
       "      <td>7.47410</td>\n",
       "      <td>3</td>\n",
       "    </tr>\n",
       "  </tbody>\n",
       "</table>\n",
       "</div>"
      ],
      "text/plain": [
       "    customer_id  recency  frequency  monetary   discount customer_segment\n",
       "382    JK-16120      117         10  2932.484  543.82000                0\n",
       "431    KH-16630       58          9  3918.966  261.59520                0\n",
       "520    ML-17410       54          6  2921.500  554.19320                2\n",
       "618    RA-19915       12          9  4793.543  940.26155                0\n",
       "344    JC-15340      114          4    71.263    7.47410                3"
      ]
     },
     "execution_count": 44,
     "metadata": {},
     "output_type": "execute_result"
    }
   ],
   "source": [
    "clusters = model.predict(transformed_kmeans_df)\n",
    "\n",
    "kmeans_df[\"customer_segment\"] = clusters.astype(str)\n",
    "kmeans_df.sample(5)"
   ]
  },
  {
   "cell_type": "markdown",
   "id": "e07055d5-c392-41f4-8b53-da2531b10dac",
   "metadata": {},
   "source": [
    "## Save the model to a Cloud Storage path"
   ]
  },
  {
   "cell_type": "code",
   "execution_count": 27,
   "id": "4c9e76df-25bd-4458-86f6-8f302c7a0c54",
   "metadata": {},
   "outputs": [],
   "source": [
    "from google.cloud import storage\n",
    "\n",
    "BUCKET_NAME = \"my-ds-playground-customers-segmentation\"\n",
    "MODEL_NAME = \"model.joblib\"\n",
    "\n",
    "\n",
    "bucket = storage.Client().bucket(BUCKET_NAME)\n",
    "blob = bucket.blob(MODEL_NAME)\n",
    "blob.upload_from_filename(MODEL_NAME)"
   ]
  },
  {
   "cell_type": "markdown",
   "id": "3dd5331f-278d-4d09-8e96-2a4445a0ed95",
   "metadata": {},
   "source": [
    "## Create a Vertex AI model "
   ]
  },
  {
   "cell_type": "code",
   "execution_count": 28,
   "id": "fa1e16ce-0c75-4753-88b6-ebe23b24c3ea",
   "metadata": {},
   "outputs": [],
   "source": [
    "MODEL_DISPLAY_NAME = \"kmeans_clustering_model\"\n",
    "ARTIFACT_GCS_PATH = \"gs://my-ds-playground-customers-segmentation\"\n",
    "exp_metadata = {\"inputs\": {\"Inp_feature\": {}}, \"outputs\": {\"Model_output\": {}}}"
   ]
  },
  {
   "cell_type": "code",
   "execution_count": 29,
   "id": "ccc86004-93fc-4f33-b818-4ed589ed3876",
   "metadata": {},
   "outputs": [],
   "source": [
    "from google.cloud import aiplatform\n",
    "from google.cloud.aiplatform_v1.types import SampledShapleyAttribution\n",
    "from google.cloud.aiplatform_v1.types.explanation import ExplanationParameters"
   ]
  },
  {
   "cell_type": "code",
   "execution_count": 30,
   "id": "b7ee8469-b551-4288-b6f4-9b7f0c9e828a",
   "metadata": {},
   "outputs": [
    {
     "name": "stdout",
     "output_type": "stream",
     "text": [
      "kmeans_clustering_model\n",
      "projects/107871909349/locations/us-central1/models/5947221011245039616\n"
     ]
    }
   ],
   "source": [
    "# aiplatform.init(project=PROJECT_ID, location=REGION)\n",
    "\n",
    "model = aiplatform.Model.upload(\n",
    "    display_name=MODEL_DISPLAY_NAME,\n",
    "    artifact_uri=ARTIFACT_GCS_PATH,\n",
    "    serving_container_image_uri=\"us-docker.pkg.dev/vertex-ai/prediction/sklearn-cpu.1-2:latest\",\n",
    "    # explanation_metadata=exp_metadata,\n",
    "    # explanation_parameters=ExplanationParameters(\n",
    "    #     sampled_shapley_attribution=SampledShapleyAttribution(path_count=25)\n",
    "    # ),\n",
    ")\n",
    "\n",
    "model.wait()\n",
    "\n",
    "print(model.display_name)\n",
    "print(model.resource_name)"
   ]
  },
  {
   "cell_type": "markdown",
   "id": "803cb323-7c54-4ad2-b029-0836c7a88272",
   "metadata": {},
   "source": [
    "## Create an Endpoint"
   ]
  },
  {
   "cell_type": "code",
   "execution_count": 31,
   "id": "cc05b78a-8598-4abc-aa3f-f2437736cbce",
   "metadata": {},
   "outputs": [
    {
     "name": "stdout",
     "output_type": "stream",
     "text": [
      "customers_segmentation\n",
      "projects/107871909349/locations/us-central1/endpoints/9202052506392199168\n"
     ]
    }
   ],
   "source": [
    "ENDPOINT_DISPLAY_NAME = \"customers_segmentation\"\n",
    "\n",
    "endpoint = aiplatform.Endpoint.create(\n",
    "    display_name=ENDPOINT_DISPLAY_NAME, project=PROJECT_ID, location=REGION\n",
    ")\n",
    "\n",
    "print(endpoint.display_name)\n",
    "print(endpoint.resource_name)"
   ]
  },
  {
   "cell_type": "markdown",
   "id": "f4f37d73-ca08-47bc-9956-171a89e2f412",
   "metadata": {},
   "source": [
    "## Deploy the Model to the Created Endpoint"
   ]
  },
  {
   "cell_type": "code",
   "execution_count": 32,
   "id": "a760cc70-a352-48fe-9b97-caff2f333a59",
   "metadata": {},
   "outputs": [
    {
     "name": "stdout",
     "output_type": "stream",
     "text": [
      "kmeans_clustering_model\n",
      "projects/107871909349/locations/us-central1/models/5947221011245039616\n"
     ]
    }
   ],
   "source": [
    "DEPLOYED_MODEL_NAME = \"customers_segmentation_deployment\"\n",
    "MACHINE_TYPE = \"n1-standard-4\"\n",
    "\n",
    "model.deploy(\n",
    "    endpoint=endpoint,\n",
    "    deployed_model_display_name=DEPLOYED_MODEL_NAME,\n",
    "    machine_type=MACHINE_TYPE,\n",
    ")\n",
    "\n",
    "model.wait()\n",
    "\n",
    "print(model.display_name)\n",
    "print(model.resource_name)"
   ]
  },
  {
   "cell_type": "code",
   "execution_count": 33,
   "id": "18297f37-d6d1-48a8-9c0a-75c99a0745bf",
   "metadata": {},
   "outputs": [
    {
     "data": {
      "text/plain": [
       "[id: \"1923399879724367872\"\n",
       " model: \"projects/107871909349/locations/us-central1/models/5947221011245039616\"\n",
       " display_name: \"customers_segmentation_deployment\"\n",
       " create_time {\n",
       "   seconds: 1693376253\n",
       "   nanos: 488656000\n",
       " }\n",
       " dedicated_resources {\n",
       "   machine_spec {\n",
       "     machine_type: \"n1-standard-4\"\n",
       "   }\n",
       "   min_replica_count: 1\n",
       "   max_replica_count: 1\n",
       " }\n",
       " model_version_id: \"1\"]"
      ]
     },
     "execution_count": 33,
     "metadata": {},
     "output_type": "execute_result"
    }
   ],
   "source": [
    "endpoint.list_models()"
   ]
  },
  {
   "cell_type": "markdown",
   "id": "3170d363-c051-483e-bb80-2ab4b94e27eb",
   "metadata": {},
   "source": [
    "## Make an Online Prediction Request"
   ]
  },
  {
   "cell_type": "code",
   "execution_count": 46,
   "id": "3737d612-2410-4931-b931-1d4446a99965",
   "metadata": {},
   "outputs": [
    {
     "data": {
      "text/plain": [
       "recency            50\n",
       "frequency           4\n",
       "monetary     1515.862\n",
       "discount     377.2034\n",
       "Name: 10, dtype: object"
      ]
     },
     "execution_count": 46,
     "metadata": {},
     "output_type": "execute_result"
    }
   ],
   "source": [
    "kmeans_df.iloc[10].drop([\"customer_id\", \"customer_segment\"])"
   ]
  },
  {
   "cell_type": "code",
   "execution_count": 47,
   "id": "dac68ead-21b4-449a-92a5-801869a2ddd9",
   "metadata": {},
   "outputs": [],
   "source": [
    "# kmeans_df.iloc[10].pop([\"customer_id\", \"customer_segment\"])"
   ]
  },
  {
   "cell_type": "code",
   "execution_count": 52,
   "id": "20f2aeab-0213-4adb-abc3-4501d85e08cd",
   "metadata": {},
   "outputs": [
    {
     "name": "stdout",
     "output_type": "stream",
     "text": [
      "customer_segment: 1.0\n"
     ]
    }
   ],
   "source": [
    "data = kmeans_df.iloc[344].drop([\"customer_id\", \"customer_segment\"])\n",
    "data = [data.astype(\"float32\").tolist()]\n",
    "\n",
    "predictions = endpoint.predict(instances=data)\n",
    "y_predicted = predictions.predictions[0]\n",
    "print(\"customer_segment:\", y_predicted)"
   ]
  },
  {
   "cell_type": "code",
   "execution_count": null,
   "id": "a9e4ebb4-c219-4aca-a786-a07c13b6afb3",
   "metadata": {},
   "outputs": [],
   "source": []
  },
  {
   "cell_type": "code",
   "execution_count": null,
   "id": "c4ebc248-2c62-433b-ac1e-3595d73f6993",
   "metadata": {},
   "outputs": [],
   "source": []
  },
  {
   "cell_type": "code",
   "execution_count": null,
   "id": "fbf71c8e-266e-4a84-940a-9f6bd18d2985",
   "metadata": {},
   "outputs": [],
   "source": []
  }
 ],
 "metadata": {
  "environment": {
   "kernel": "python3",
   "name": "common-cpu.m110",
   "type": "gcloud",
   "uri": "gcr.io/deeplearning-platform-release/base-cpu:m110"
  },
  "kernelspec": {
   "display_name": "Python 3",
   "language": "python",
   "name": "python3"
  },
  "language_info": {
   "codemirror_mode": {
    "name": "ipython",
    "version": 3
   },
   "file_extension": ".py",
   "mimetype": "text/x-python",
   "name": "python",
   "nbconvert_exporter": "python",
   "pygments_lexer": "ipython3",
   "version": "3.10.12"
  }
 },
 "nbformat": 4,
 "nbformat_minor": 5
}
